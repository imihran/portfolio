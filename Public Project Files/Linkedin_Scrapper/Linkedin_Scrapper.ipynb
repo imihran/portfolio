{
 "cells": [
  {
   "cell_type": "code",
   "execution_count": 20,
   "id": "6d8cf0e7",
   "metadata": {
    "tags": []
   },
   "outputs": [],
   "source": [
    "from selenium import webdriver\n",
    "from selenium.webdriver.common.keys import Keys\n",
    "from selenium.webdriver.common.by import By\n",
    "from bs4 import BeautifulSoup\n",
    "import time\n",
    "\n",
    "\n",
    "linkedin_email = \"mihran.akopyan@campus.masterschool.com\"\n",
    "linkedin_password = \"u&ubPmd9:h%RH%x\"\n",
    "\n",
    "url = 'https://www.linkedin.com/jobs'"
   ]
  },
  {
   "cell_type": "code",
   "execution_count": 43,
   "id": "acc538ef",
   "metadata": {
    "jupyter": {
     "source_hidden": true
    },
    "tags": []
   },
   "outputs": [],
   "source": [
    "import re\n",
    "\n",
    "def check_element (elem):\n",
    "    if elem is None: \n",
    "        return ''\n",
    "    if len (elem) > 0:\n",
    "        return elem.text.strip()\n",
    "    else:\n",
    "        return ''\n",
    "\n",
    "\n",
    "\n",
    "def extract_hourly_or_salary_range(salary_string):\n",
    "    hourly_match = re.search(r'\\$([\\d,]+(?:\\.\\d+)?)\\s?(?:-|to)?\\s?\\$?([\\d,]+(?:\\.\\d+)?)?\\s?\\/\\s?hr', salary_string)\n",
    "    salary_match = re.search(r'\\$([\\d,]+(?:\\.\\d+)?)\\s?K?\\s?\\/\\s?yr\\s?(?:-|to)?\\s?\\$?([\\d,]+(?:\\.\\d+)?)?\\s?K?\\s?\\/\\s?yr', salary_string)\n",
    "\n",
    "    if hourly_match:\n",
    "        hourly_rate_lower = float(hourly_match.group(1).replace(',', ''))\n",
    "        hourly_rate_upper = float(hourly_match.group(2).replace(',', '')) if hourly_match.group(2) else hourly_rate_lower\n",
    "\n",
    "        # Assuming 40 hours per week and 52 weeks per year\n",
    "        annual_lower = hourly_rate_lower * 40 * 52\n",
    "        annual_upper = hourly_rate_upper * 40 * 52\n",
    "\n",
    "        average = (annual_lower + annual_upper) / 2\n",
    "\n",
    "        return [annual_lower, annual_upper, average]\n",
    "    elif salary_match:\n",
    "        salary_lower = float(salary_match.group(1).replace(',', '')) * 1000\n",
    "        salary_upper = float(salary_match.group(2).replace(',', '')) * 1000 if salary_match.group(2) else salary_lower\n",
    "\n",
    "        average = (salary_lower + salary_upper) / 2\n",
    "\n",
    "        return [salary_lower, salary_upper, average]\n",
    "    else:\n",
    "        return [0,0,0]\n",
    "\n",
    "# # Example usage\n",
    "# strings = [\n",
    "#     '$57/hr - $78/hr · Vision, +1 benefit',\n",
    "#     '401(k), +6 benefits',\n",
    "#     '$117K/yr - $134.2K/yr · Medical benefit',\n",
    "#     '$55.1K/yr - $68.9K/yr',\n",
    "#     '$70/hr - $75/hr · 401(k), +1 benefit',\n",
    "#     'Starting at $40/hr',\n",
    "#     '$57/hr - $78/hr · Vision, +1 benefit'\n",
    "# ]\n",
    "\n",
    "# for salary_string in strings:\n",
    "#     result = extract_hourly_or_salary_range(salary_string)\n",
    "#     if result:\n",
    "#         print(f\"Input: {salary_string}\\nConverted Range: {result}\\n\")\n",
    "#     else:\n",
    "#         print(f\"Input: {salary_string}\\nUnable to extract hourly rate or salary range.\\n\")\n"
   ]
  },
  {
   "cell_type": "code",
   "execution_count": 21,
   "id": "991d43de",
   "metadata": {
    "tags": []
   },
   "outputs": [],
   "source": [
    "browser = webdriver.Firefox()\n",
    "browser.get(url)\n",
    "\n",
    "email_input = browser.find_element(\"name\", \"session_key\")\n",
    "password_input = browser.find_element(\"name\", \"session_password\")\n",
    "login_button = browser.find_element(\"xpath\", \"//button[@type='submit']\")"
   ]
  },
  {
   "cell_type": "code",
   "execution_count": 22,
   "id": "5688cbf6",
   "metadata": {
    "tags": []
   },
   "outputs": [],
   "source": [
    "email_input.send_keys(linkedin_email)\n",
    "password_input.send_keys(linkedin_password)"
   ]
  },
  {
   "cell_type": "code",
   "execution_count": 23,
   "id": "2a4690a2",
   "metadata": {
    "tags": []
   },
   "outputs": [],
   "source": [
    "login_button.click()\n",
    "\n",
    "time.sleep(5)"
   ]
  },
  {
   "cell_type": "code",
   "execution_count": 24,
   "id": "cff289a7",
   "metadata": {
    "tags": []
   },
   "outputs": [],
   "source": [
    "search_box = browser.find_element(By.CLASS_NAME, 'jobs-search-box__text-input')\n",
    "search_box.send_keys('Data Analyst')\n",
    "search_box.send_keys(Keys.RETURN)\n"
   ]
  },
  {
   "cell_type": "code",
   "execution_count": 28,
   "id": "f86fc4bd",
   "metadata": {
    "tags": []
   },
   "outputs": [],
   "source": [
    "date_filter = browser.find_element(\"id\", \"searchFilter_timePostedRange\")\n",
    "date_filter.click()\n"
   ]
  },
  {
   "cell_type": "code",
   "execution_count": 29,
   "id": "18f37914",
   "metadata": {
    "tags": []
   },
   "outputs": [],
   "source": [
    "\n",
    "\n",
    "class_name = \"t-14 t-black--light t-normal\"\n",
    "span_text = \"week\"\n",
    "\n",
    "past_week_x_path= f\"//span[@class='{class_name}' and contains(.,'{span_text}')]\"\n",
    "past_week = browser.find_element(\"xpath\", past_week_x_path)\n",
    "past_week.click()\n"
   ]
  },
  {
   "cell_type": "code",
   "execution_count": 30,
   "id": "3af0bf66",
   "metadata": {
    "tags": []
   },
   "outputs": [],
   "source": [
    "\n",
    "class_name = \"artdeco-button__text\"\n",
    "span_text = \"results\"\n",
    "show_results_xpath = f\"//span[@class='{class_name}' and contains(.,'{span_text}')]\"\n",
    "show_results = browser.find_element(\"xpath\", show_results_xpath)\n",
    "show_results.click()\n",
    "\n"
   ]
  },
  {
   "cell_type": "code",
   "execution_count": 48,
   "id": "2c26413c",
   "metadata": {
    "tags": []
   },
   "outputs": [],
   "source": [
    "jobs_block = browser.find_element(By.CSS_SELECTOR, '.scaffold-layout__list-container')\n",
    "jobs_list= jobs_block.find_elements(By.CSS_SELECTOR, '.jobs-search-results__list-item')\n"
   ]
  },
  {
   "cell_type": "code",
   "execution_count": 49,
   "id": "45e4174d",
   "metadata": {
    "tags": []
   },
   "outputs": [],
   "source": [
    "# browser.execute_script(\"arguments[0].scrollIntoView();\", target_li_elements[24])\n",
    "browser.execute_script(\"arguments[0].scrollIntoView();\", jobs_list[len(jobs_list)-1])"
   ]
  },
  {
   "cell_type": "code",
   "execution_count": 50,
   "id": "cb0f8d95",
   "metadata": {
    "tags": []
   },
   "outputs": [],
   "source": [
    "soup = BeautifulSoup(browser.page_source, \"html.parser\")"
   ]
  },
  {
   "cell_type": "code",
   "execution_count": 51,
   "id": "6f012e74",
   "metadata": {
    "tags": []
   },
   "outputs": [],
   "source": [
    "target_class = 'jobs-search-results'\n",
    "target_li_elements = soup.find_all('li', class_=lambda x: x and 'jobs-search-results__list-item' in x)"
   ]
  },
  {
   "cell_type": "code",
   "execution_count": 52,
   "id": "5e4ba58a",
   "metadata": {
    "tags": []
   },
   "outputs": [
    {
     "data": {
      "text/plain": [
       "{'job_title': 'Data Analyst, gt.school (Remote) - $100,000/year USD',\n",
       " 'company': 'Crossover',\n",
       " 'location': 'Coral Springs, FL (Remote)',\n",
       " 'salary_string': '$50/hr',\n",
       " 'lower_bound_extracted_salary': 104000.0,\n",
       " 'upper_extracted_salary': 104000.0,\n",
       " 'average_extracted_salary': 104000.0,\n",
       " 'link': 'www.linkedin.com/jobs/view/3801851735/?eBP=CwEAAAGNEI9OQql6x-zTolAtTVGzz8wm6FEIKAa2igWgYIxU64cVpv_jnn9YxTdIHegPKa5lvXDMB0qzOYz57CNFQ1S5Pg93mKtggmj4--JwuKVn_K6xi_QNue3hDxYphBHeOPhYUK0lXoUPWzBbtvjmN0ObmGU0OhM3iywUBgP1SsoKOBNlaINPsQ8Uu_ScJ_1SnAp3juAbFShYAvMEs_qhkViqj-ofSWDwgqSYMHHllmntBc147FWL3NdG89JUJ1GQQCrcrquimb-PiQMWeTErr2Q_CeagYcX_eha3K9lBXIOXYbeNRNBb3lEXj9JXPK2gESlaaQ2nftd-8Hcua0jCs1eshDc4kglJMXOzOmjKSKPjWXtCElEfdEcaiZOYACqaZOnuxE_j3UXV78fM-p73mzR3hKYQ&refId=YWAmcbsHxqpbmcp9lZYkXQ%3D%3D&trackingId=nvS51JdslZuai9GT1ZGRAQ%3D%3D&trk=flagship3_search_srp_jobs'}"
      ]
     },
     "execution_count": 52,
     "metadata": {},
     "output_type": "execute_result"
    }
   ],
   "source": [
    "num = 24\n",
    "\n",
    "\n",
    "job_title = check_element (target_li_elements[num].find('a', class_=lambda x: x and 'title' in x))\n",
    "company = check_element ( target_li_elements[num].find('span', class_= 'job-card-container__primary-description') )\n",
    "location = check_element (target_li_elements[num].find('div', class_= 'artdeco-entity-lockup__caption ember-view') )\n",
    "salary = check_element (target_li_elements[num].find('div', class_= lambda x: x and 'mt1 t-sans t-12 t-black--light' in x) )\n",
    "link = target_li_elements[num].find('a').get('href')\n",
    "\n",
    "dic = {     'job_title': job_title ,\n",
    "            'company': company,\n",
    "            'location': location,\n",
    "            'salary_string': salary,\n",
    "            'lower_bound_extracted_salary':  (extract_hourly_or_salary_range(salary)[0]),\n",
    "            'upper_extracted_salary':  (extract_hourly_or_salary_range(salary)[1]),\n",
    "            'average_extracted_salary':  (extract_hourly_or_salary_range(salary)[2]),\n",
    "            'link': 'www.linkedin.com'+link\n",
    "       \n",
    "          }\n",
    "\n",
    "dic"
   ]
  },
  {
   "cell_type": "code",
   "execution_count": 536,
   "id": "a278dc04",
   "metadata": {},
   "outputs": [],
   "source": [
    "page = 2\n",
    "next_page_xpath = \"//button[@aria-label='Page \"+str(page)+\"']\"\n",
    "# next_page = browser.find_element(\"xpath\", \"//button[@aria-label='Page 3']\")\n",
    "next_page = browser.find_element(\"xpath\", next_page_xpath)\n",
    "next_page.click()\n",
    "\n"
   ]
  },
  {
   "cell_type": "code",
   "execution_count": 34,
   "id": "194ab0a0-2748-4c06-91db-e3849f83976e",
   "metadata": {
    "tags": []
   },
   "outputs": [
    {
     "data": {
      "text/plain": [
       "25"
      ]
     },
     "execution_count": 34,
     "metadata": {},
     "output_type": "execute_result"
    }
   ],
   "source": [
    "len (jobs_list)"
   ]
  },
  {
   "cell_type": "code",
   "execution_count": 502,
   "id": "227f6c71",
   "metadata": {},
   "outputs": [
    {
     "name": "stdout",
     "output_type": "stream",
     "text": [
      "__________\n",
      "14   Data Analyst\n",
      "Flashii\n",
      "Seattle, WA (Hybrid)\n",
      "Promoted\n",
      "Easy Apply\n"
     ]
    }
   ],
   "source": [
    "n = 13\n",
    "for i in jobs_list:\n",
    "    print(\"__________\")\n",
    "    n+=1\n",
    "    browser.execute_script(\"arguments[0].scrollIntoView();\", jobs_list[n-1])\n",
    "    print(n, \" \",i.text)\n",
    "    break"
   ]
  },
  {
   "cell_type": "code",
   "execution_count": 540,
   "id": "7ef9a924",
   "metadata": {},
   "outputs": [
    {
     "data": {
      "text/plain": [
       "25"
      ]
     },
     "execution_count": 540,
     "metadata": {},
     "output_type": "execute_result"
    }
   ],
   "source": [
    "len (target_li_elements)"
   ]
  },
  {
   "cell_type": "code",
   "execution_count": 37,
   "id": "925ffd90",
   "metadata": {
    "tags": []
   },
   "outputs": [],
   "source": [
    "# counter = 0\n",
    "# for e in target_li_elements:\n",
    "#     print (str(counter) + '____________________________________________________________________________________')\n",
    "#     print (str(counter) + '____________________________________________________________________________________')\n",
    "#     print (str(counter) + '____________________________________________________________________________________')\n",
    "#     print (str(counter) + '____________________________________________________________________________________')\n",
    "    \n",
    "#     print (e)\n",
    "#     counter = counter +1\n",
    "    \n"
   ]
  },
  {
   "cell_type": "code",
   "execution_count": null,
   "id": "032d170c",
   "metadata": {},
   "outputs": [],
   "source": []
  },
  {
   "cell_type": "code",
   "execution_count": 84,
   "id": "2cc36f03",
   "metadata": {
    "tags": []
   },
   "outputs": [
    {
     "data": {
      "text/plain": [
       "'100% Remote Data Analyst'"
      ]
     },
     "execution_count": 84,
     "metadata": {},
     "output_type": "execute_result"
    }
   ],
   "source": [
    "job_title\n"
   ]
  },
  {
   "cell_type": "code",
   "execution_count": 16,
   "id": "e7697c6c",
   "metadata": {},
   "outputs": [],
   "source": [
    "company = target_li_elements[0].find('div',class_='artdeco-entity-lockup__subtitle ember-view').text.strip()"
   ]
  },
  {
   "cell_type": "code",
   "execution_count": 17,
   "id": "d58cd766",
   "metadata": {},
   "outputs": [
    {
     "data": {
      "text/plain": [
       "'Hays'"
      ]
     },
     "execution_count": 17,
     "metadata": {},
     "output_type": "execute_result"
    }
   ],
   "source": [
    "company"
   ]
  },
  {
   "cell_type": "code",
   "execution_count": 18,
   "id": "b38bed8e",
   "metadata": {},
   "outputs": [],
   "source": [
    "location = target_li_elements[0].find('div',class_='artdeco-entity-lockup__caption ember-view').text.strip()"
   ]
  },
  {
   "cell_type": "code",
   "execution_count": 19,
   "id": "995b253e",
   "metadata": {},
   "outputs": [
    {
     "data": {
      "text/plain": [
       "'Miami, FL (On-site)'"
      ]
     },
     "execution_count": 19,
     "metadata": {},
     "output_type": "execute_result"
    }
   ],
   "source": [
    "location"
   ]
  },
  {
   "cell_type": "code",
   "execution_count": 36,
   "id": "194ec977",
   "metadata": {},
   "outputs": [
    {
     "data": {
      "text/plain": [
       "'$70K/yr - $90K/yr · 401(k) benefit'"
      ]
     },
     "execution_count": 36,
     "metadata": {},
     "output_type": "execute_result"
    }
   ],
   "source": [
    "salary = target_li_elements[0].find_all('li',class_='job-card-container__metadata-item')[1].text.strip()\n",
    "salary"
   ]
  },
  {
   "cell_type": "code",
   "execution_count": 280,
   "id": "1ee75025",
   "metadata": {},
   "outputs": [
    {
     "data": {
      "text/plain": [
       "[<li class=\"job-card-container__metadata-item\">\n",
       " <!-- -->Olathe, KS<!-- -->\n",
       " </li>]"
      ]
     },
     "execution_count": 280,
     "metadata": {},
     "output_type": "execute_result"
    }
   ],
   "source": [
    "target_li_elements[5].find_all ('li','job-card-container__metadata-item')"
   ]
  },
  {
   "cell_type": "code",
   "execution_count": 38,
   "id": "9f409039",
   "metadata": {},
   "outputs": [],
   "source": [
    "for elem in target_li_elements:\n",
    "    job_title = elem.find('a',class_='job-card-list__title').text.strip()\n",
    "    company = elem.find('div',class_='artdeco-entity-lockup__subtitle ember-view').text.strip()\n",
    "    location = elem.find_all('li',class_='job-card-container__metadata-item')[0].text.strip()\n",
    "    salary = elem.find_all('li',class_='job-card-container__metadata-item')[1].text.strip()\n",
    "    \n",
    "    \n",
    "    dic = { 'job_title': job_title ,\n",
    "            'company': company,\n",
    "            'location': location,\n",
    "            'salary': salary,\n",
    "          }\n",
    "    break\n",
    "    "
   ]
  },
  {
   "cell_type": "code",
   "execution_count": 39,
   "id": "1c7b4f6a",
   "metadata": {},
   "outputs": [
    {
     "data": {
      "text/plain": [
       "{'job_title': 'Business Data Analyst',\n",
       " 'company': 'Hays',\n",
       " 'location': 'Miami, FL (On-site)',\n",
       " 'salary': '$70K/yr - $90K/yr · 401(k) benefit'}"
      ]
     },
     "execution_count": 39,
     "metadata": {},
     "output_type": "execute_result"
    }
   ],
   "source": [
    "dic"
   ]
  },
  {
   "cell_type": "code",
   "execution_count": 50,
   "id": "a975a37b",
   "metadata": {
    "tags": []
   },
   "outputs": [],
   "source": [
    "def check_element (elem):\n",
    "    if elem is None: \n",
    "        return ''\n",
    "    if len (elem) > 0:\n",
    "        return elem.text.strip()\n",
    "    else:\n",
    "        return ''"
   ]
  },
  {
   "cell_type": "code",
   "execution_count": 41,
   "id": "88c78691",
   "metadata": {},
   "outputs": [
    {
     "data": {
      "text/plain": [
       "{'job_title': 'Business Data Analyst',\n",
       " 'company': 'Hays',\n",
       " 'location': 'Miami, FL (On-site)',\n",
       " 'salary': '$70K/yr - $90K/yr · 401(k) benefit'}"
      ]
     },
     "execution_count": 41,
     "metadata": {},
     "output_type": "execute_result"
    }
   ],
   "source": [
    "dic"
   ]
  },
  {
   "cell_type": "code",
   "execution_count": 111,
   "id": "41fd73f7",
   "metadata": {},
   "outputs": [
    {
     "data": {
      "text/plain": [
       "'\\n                    Senior Data Analyst\\n                '"
      ]
     },
     "execution_count": 111,
     "metadata": {},
     "output_type": "execute_result"
    }
   ],
   "source": [
    "job_title = target_li_elements[2].find('a', class_=lambda x: x and 'title' in x)\n",
    "job_title.text"
   ]
  },
  {
   "cell_type": "code",
   "execution_count": 124,
   "id": "a6e16efc",
   "metadata": {},
   "outputs": [
    {
     "data": {
      "text/plain": [
       "'Cityblock Health'"
      ]
     },
     "execution_count": 124,
     "metadata": {},
     "output_type": "execute_result"
    }
   ],
   "source": [
    "company = target_li_elements[2].find('span', class_= 'job-card-container__primary-description')\n",
    "company.text.strip()"
   ]
  },
  {
   "cell_type": "code",
   "execution_count": 136,
   "id": "14d29129",
   "metadata": {},
   "outputs": [
    {
     "data": {
      "text/plain": [
       "'United States (Remote)'"
      ]
     },
     "execution_count": 136,
     "metadata": {},
     "output_type": "execute_result"
    }
   ],
   "source": [
    "location = target_li_elements[2].find('div', class_= 'artdeco-entity-lockup__caption ember-view')\n",
    "location.text.strip()"
   ]
  },
  {
   "cell_type": "code",
   "execution_count": 142,
   "id": "dae1b8bb",
   "metadata": {},
   "outputs": [
    {
     "data": {
      "text/plain": [
       "'$117K/yr - $134.2K/yr · Medical benefit'"
      ]
     },
     "execution_count": 142,
     "metadata": {},
     "output_type": "execute_result"
    }
   ],
   "source": [
    "salary = target_li_elements[2].find('div', class_= lambda x: x and 'mt1 t-sans t-12 t-black--light' in x)\n",
    "salary.text.strip()"
   ]
  },
  {
   "cell_type": "code",
   "execution_count": 38,
   "id": "5985bb0e",
   "metadata": {
    "tags": []
   },
   "outputs": [],
   "source": [
    "# for e in target_li_elements:\n",
    "#     print (e)\n",
    "#     print ('---------------------')\n",
    "#     print ('---------------------')\n",
    "#     print ('---------------------')\n",
    "#     print ('---------------------')\n"
   ]
  },
  {
   "cell_type": "code",
   "execution_count": 176,
   "id": "72005f2b",
   "metadata": {},
   "outputs": [],
   "source": [
    "salary = check_element (target_li_elements[num].find('div', class_= lambda x: x and 'mt1 t-sans t-12 t-black--light' in x) )\n"
   ]
  },
  {
   "cell_type": "code",
   "execution_count": 298,
   "id": "7229fb31",
   "metadata": {},
   "outputs": [
    {
     "data": {
      "text/plain": [
       "35"
      ]
     },
     "execution_count": 298,
     "metadata": {},
     "output_type": "execute_result"
    }
   ],
   "source": [
    "len (target_li_elements)"
   ]
  },
  {
   "cell_type": "code",
   "execution_count": 174,
   "id": "d6a35723",
   "metadata": {},
   "outputs": [
    {
     "data": {
      "text/plain": [
       "True"
      ]
     },
     "execution_count": 174,
     "metadata": {},
     "output_type": "execute_result"
    }
   ],
   "source": [
    "x is None"
   ]
  },
  {
   "cell_type": "code",
   "execution_count": 47,
   "id": "9cb0c16b",
   "metadata": {
    "tags": []
   },
   "outputs": [],
   "source": [
    "x = extract_hourly_or_salary_range(\"$117K/yr - $134.2K/yr · Medical benefit\")"
   ]
  },
  {
   "cell_type": "code",
   "execution_count": 48,
   "id": "b8186379",
   "metadata": {
    "tags": []
   },
   "outputs": [
    {
     "name": "stdout",
     "output_type": "stream",
     "text": [
      "[117000.0, 134200.0, 125600.0]\n"
     ]
    }
   ],
   "source": [
    "print(x)"
   ]
  },
  {
   "cell_type": "code",
   "execution_count": 254,
   "id": "91e4520c",
   "metadata": {},
   "outputs": [],
   "source": [
    "link = target_li_elements[num].find('a')"
   ]
  },
  {
   "cell_type": "code",
   "execution_count": 256,
   "id": "fff05d3b",
   "metadata": {},
   "outputs": [
    {
     "data": {
      "text/plain": [
       "'/jobs/view/3799960108/?eBP=CwEAAAGNA6SGtlC0cwQwWB85lqZu9G0NhRGswr1CnsBt6fxUWwUvM4M9eUDUq6M2hJ4y_GCfIK2ncUiOAUgFUfXjQrpYStliYhPTx5HBsN0LiGe5bpFImI_uL87OeMEfbueFoE_VNyOGVjMUCEb6JANZA1vO_C-5AWM3OHsOTAqoffLi73iteGV8chTAV2nSZ75mGe6hYeJExyR0LHZ70x9yO2VV9knq_Dwg-eyrLbMCEQn5JJDCKbIl6ClPI68eIlb1KQscydipgt3f9cXAvuqa9P_fr6pNpjobvSNtdebw3Efm6DWPU9-juvnamp-a0RzeS8HXWzF5rGMXNPQjZS2GSTo9LfhYLOHS3Iopd89Ks78T_76E18QkCRMshss7W66hxGonk2ite_simgj8C_BfxxU4hftu&refId=zxUetQiXMGY9a7q5VOABbw%3D%3D&trackingId=gVj%2FaEjz%2FEGuiYoLmLX7fg%3D%3D&trk=flagship3_search_srp_jobs'"
      ]
     },
     "execution_count": 256,
     "metadata": {},
     "output_type": "execute_result"
    }
   ],
   "source": [
    "link.get('href')"
   ]
  },
  {
   "cell_type": "code",
   "execution_count": 369,
   "id": "3db02996",
   "metadata": {},
   "outputs": [],
   "source": [
    "target_li_elements = soup.find_all(By.CLASS_NAME, 'occludable-update')"
   ]
  },
  {
   "cell_type": "code",
   "execution_count": 373,
   "id": "1b938114",
   "metadata": {},
   "outputs": [],
   "source": [
    "target_li_elements = soup.find_all('li', class_=lambda x: x and 'occludable-update' in x)"
   ]
  },
  {
   "cell_type": "code",
   "execution_count": 401,
   "id": "59cca981",
   "metadata": {},
   "outputs": [],
   "source": [
    "last_height = browser.execute_script('return document.body.scrollHeight')"
   ]
  },
  {
   "cell_type": "code",
   "execution_count": 402,
   "id": "61979110",
   "metadata": {},
   "outputs": [],
   "source": [
    "browser.execute_script('window.scrollTo(0, document.body.scrollHeight);')"
   ]
  },
  {
   "cell_type": "code",
   "execution_count": null,
   "id": "46b8a486",
   "metadata": {},
   "outputs": [],
   "source": []
  },
  {
   "cell_type": "code",
   "execution_count": null,
   "id": "204ef205",
   "metadata": {},
   "outputs": [],
   "source": []
  }
 ],
 "metadata": {
  "kernelspec": {
   "display_name": "Python 3 (ipykernel)",
   "language": "python",
   "name": "python3"
  },
  "language_info": {
   "codemirror_mode": {
    "name": "ipython",
    "version": 3
   },
   "file_extension": ".py",
   "mimetype": "text/x-python",
   "name": "python",
   "nbconvert_exporter": "python",
   "pygments_lexer": "ipython3",
   "version": "3.11.5"
  }
 },
 "nbformat": 4,
 "nbformat_minor": 5
}
